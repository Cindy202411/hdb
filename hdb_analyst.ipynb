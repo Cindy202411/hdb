{
 "cells": [
  {
   "cell_type": "code",
   "execution_count": null,
   "metadata": {},
   "outputs": [],
   "source": [
    "\n",
    "import numpy as np\n",
    "import pandas as pd\n",
    "import plotly.offline as pyo\n",
    "import plotly.graph_objs as go\n",
    "import plotly.express as px"
   ]
  },
  {
   "cell_type": "code",
   "execution_count": null,
   "metadata": {},
   "outputs": [],
   "source": [
    "filepath = \"/Users/cindy/Documents/sample_hdb/datasets/train.csv\"\n",
    "df = pd.read_csv(filepath)"
   ]
  },
  {
   "cell_type": "code",
   "execution_count": null,
   "metadata": {},
   "outputs": [],
   "source": [
    "df.describe()"
   ]
  },
  {
   "cell_type": "code",
   "execution_count": null,
   "metadata": {},
   "outputs": [],
   "source": [
    "df.isnull()"
   ]
  },
  {
   "cell_type": "code",
   "execution_count": null,
   "metadata": {},
   "outputs": [],
   "source": [
    "df.head()\n"
   ]
  },
  {
   "cell_type": "code",
   "execution_count": null,
   "metadata": {},
   "outputs": [],
   "source": [
    "df.info()\n",
    "\n",
    "# plotly\n"
   ]
  },
  {
   "cell_type": "markdown",
   "metadata": {},
   "source": [
    "### **# *# ### Average resale price of each town from Year 2012 to 2021"
   ]
  },
  {
   "cell_type": "code",
   "execution_count": null,
   "metadata": {},
   "outputs": [],
   "source": [
    " \n",
    "#Find the average resale price of each town,price only with 2 decimal places,descending order\n",
    "df.groupby('town')['resale_price'].mean().round(2).sort_values(ascending=False).reset_index()\n",
    "#plot the average resale price of each town\n",
    "avg_price=df.groupby('town')['resale_price'].mean().round(2).sort_values(ascending=False).reset_index()\n",
    "fig = px.bar(avg_price, x='town', y='resale_price')\n",
    "fig.show()\n"
   ]
  },
  {
   "cell_type": "markdown",
   "metadata": {},
   "source": [
    "#average price per sqaure meter in each town\n"
   ]
  },
  {
   "cell_type": "code",
   "execution_count": null,
   "metadata": {},
   "outputs": [],
   "source": [
    "#average price per sqaure meter in each town\n",
    "df['price_per_sqm']=df['resale_price']/df['floor_area_sqm'] #create a new column price_per_sqm\n",
    "df.groupby('town')['price_per_sqm'].mean().round(2).sort_values(ascending=False).reset_index()\n",
    "#plot the average price per sqaure meter in each town\n",
    "avg_price_per_sqm=df.groupby('town')['price_per_sqm'].mean().round(2).sort_values(ascending=False).reset_index()\n",
    "fig = px.bar(avg_price_per_sqm, x='town', y='price_per_sqm')\n",
    "fig.show()"
   ]
  },
  {
   "cell_type": "markdown",
   "metadata": {},
   "source": [
    "Price per sqm as averager from 2012 to 2021"
   ]
  },
  {
   "cell_type": "code",
   "execution_count": null,
   "metadata": {},
   "outputs": [],
   "source": [
    "\n",
    "\n",
    "# Ensure relevant columns exist\n",
    "df['price_per_sqm_per_year'] = df['resale_price'] / (df['floor_area_sqm'] )\n",
    "\n",
    "# Group by town and calculate average\n",
    "avg_price_per_sqm_per_year = df.groupby('town', as_index=False)['price_per_sqm_per_year'].mean()\n",
    "\n",
    "# Plot using Plotly\n",
    "fig = px.bar(avg_price_per_sqm_per_year, x='town', y='price_per_sqm_per_year', \n",
    "             title='Average Price per Sqm per Year for Each Town in Singapore',\n",
    "             labels={'price_per_sqm_per_year': 'Price per Sqm per Year (SGD)'},\n",
    "             color='price_per_sqm_per_year',\n",
    "             color_continuous_scale='Blues')\n",
    "\n",
    "# Show the figure\n",
    "fig.show()\n"
   ]
  },
  {
   "cell_type": "code",
   "execution_count": null,
   "metadata": {},
   "outputs": [],
   "source": [
    "df['price_per_sqm_per_year'] = df['resale_price'] / (df['floor_area_sqm'])\n",
    "\n",
    "# Group by town and transaction year, then calculate the average\n",
    "avg_price_per_sqm_per_year = df.groupby(['town', 'Tranc_Year'], as_index=False)['price_per_sqm_per_year'].mean()\n",
    "\n",
    "# Plot using Plotly\n",
    "fig = px.line(avg_price_per_sqm_per_year, x='Tranc_Year', y='price_per_sqm_per_year', \n",
    "              color='town', \n",
    "              title='Average Price per Sqm per Year by Town Over Time',\n",
    "              labels={'price_per_sqm_per_year': 'Price per Sqm per Year (SGD)', 'Tranc_Year': 'Transaction Year'},\n",
    "              markers=True)\n",
    "# make the plot bigger\n",
    "fig.update_layout(width=900, height=700)\n",
    "# Show the figure\n",
    "fig.show()"
   ]
  },
  {
   "cell_type": "markdown",
   "metadata": {},
   "source": [
    "Comments: Only central area has significatcant increase in price per sqm per year. Other areas have no such sharp difference.\n",
    "Further investigation for Central area Y2015 and queenstown from 2019?"
   ]
  },
  {
   "cell_type": "code",
   "execution_count": null,
   "metadata": {},
   "outputs": [],
   "source": [
    "# price per square meter by town over time\n",
    "\n",
    "# calculate the price per sqm\n",
    "df['price_per_sqm'] = df['resale_price'] / df['floor_area_sqm']\n",
    "\n",
    "# Group by town and year, then calculate the average price per sqm\n",
    "avg_price_per_sqm = df.groupby(['town', 'Tranc_Year'], as_index=False)['price_per_sqm'].mean()\n",
    "\n",
    "# Create an animated bar plot\n",
    "fig = px.bar(avg_price_per_sqm, \n",
    "             x='town', \n",
    "             y='price_per_sqm', \n",
    "            \n",
    "             color='town', \n",
    "             animation_frame='Tranc_Year',  # Animate over years\n",
    "             title='Average Price per Sqm by Town Over Time',\n",
    "             labels={'price_per_sqm': 'Price per Sqm (SGD)', 'Tranc_Year': 'Transaction Year'},\n",
    "             orientation='v',  # vertical bars\n",
    "             height=600)\n",
    "\n",
    "# Set the x-axis range to be the same for each year (0 to 8500)\n",
    "fig.update_layout(\n",
    "    yaxis=dict(\n",
    "        range=[0, 8500],  # Set the range from 0 to 8500 for each year\n",
    "    )\n",
    ")\n",
    "# make the plot bigger\n",
    "fig.update_layout(width=1000, height=600)\n",
    "#show the year changed when the animation starts in title and bigger font\n",
    "fig.update_layout(title_x=0.5, title_font_size=30)\n",
    "\n",
    "\n",
    "# Show the figure\n",
    "fig.show()\n"
   ]
  },
  {
   "cell_type": "markdown",
   "metadata": {},
   "source": [
    "# units sold in each town "
   ]
  },
  {
   "cell_type": "code",
   "execution_count": null,
   "metadata": {},
   "outputs": [],
   "source": [
    "units_sold=df['town'].value_counts()   # count the number of each town\n",
    "#put the rusult in a dataframe includig the town and the number of units sold\n",
    "\n",
    "units_sold=pd.DataFrame(units_sold).reset_index()\n",
    "units_sold.columns=['town','units_sold']\n",
    "units_sold.head()\n",
    "#plot the number of units sold in each town\n",
    "fig = px.bar(units_sold, x='town', y='units_sold')\n",
    "fig.show()\n",
    "units_sold.sum()\n"
   ]
  },
  {
   "cell_type": "markdown",
   "metadata": {},
   "source": [
    "Why most of buyers to buy JW? to do further investigatgation!"
   ]
  },
  {
   "cell_type": "markdown",
   "metadata": {},
   "source": [
    "Which flat type is more popular?"
   ]
  },
  {
   "cell_type": "code",
   "execution_count": null,
   "metadata": {},
   "outputs": [],
   "source": [
    "#total units sold in each flat type in all towns\n",
    "units_sold_flat=df['flat_type'].value_counts()\n",
    "units_sold_flat=pd.DataFrame(units_sold_flat).reset_index()\n",
    "units_sold_flat.columns=['flat_type','units_sold']\n",
    "units_sold_flat.head()\n",
    "#plot the number of units sold in each flat type,showing the total units sold in table\n",
    "fig = px.bar(units_sold_flat, x='flat_type', y='units_sold',title='Total units sold in each flat type',labels={'flat_type':'Flat Type','units_sold':'Total Units Sold'})\n",
    "# Add text above each bar\n",
    "fig.update_traces(texttemplate='%{y}', textposition='outside')\n",
    "# Show the plot\n",
    "fig.show()\n",
    "\n",
    "#fig = px.bar(units_sold_flat, x='flat_type', y='units_sold')\n",
    "#fig.show()\n",
    "#units_sold.sum()\n"
   ]
  },
  {
   "cell_type": "markdown",
   "metadata": {},
   "source": [
    "Each flat type sold in total"
   ]
  },
  {
   "cell_type": "code",
   "execution_count": null,
   "metadata": {},
   "outputs": [],
   "source": [
    "units_sold=df['town'].value_counts()   # count the number of each town\n",
    "#plot the number of units sold in each town by flat type in hish graph\n",
    "fig = px.histogram(df, x='town', color='flat_type')\n",
    "fig.show()\n",
    "\n",
    "\n"
   ]
  },
  {
   "cell_type": "markdown",
   "metadata": {},
   "source": [
    "Price and nd units sold coororrelation"
   ]
  },
  {
   "cell_type": "code",
   "execution_count": null,
   "metadata": {},
   "outputs": [],
   "source": [
    "\n",
    "merged = pd.merge(avg_price, units_sold, on='town')\n",
    "\n",
    "# Rename columns if necessary\n",
    "merged.columns = ['town', 'avg_price', 'units_sold']\n",
    "\n",
    "# Compute correlation\n",
    "correlation = merged[['avg_price', 'units_sold']].corr()\n",
    "\n",
    "print(correlation)\n",
    "# plot the correlation\n",
    "fig = px.scatter(merged, x='avg_price', y='units_sold')\n",
    "fig.show()\n",
    "\n",
    "\n",
    "\n",
    "\n"
   ]
  },
  {
   "cell_type": "markdown",
   "metadata": {},
   "source": [
    "Price and units sold are negative relatedted\"\"\"\n",
    "\n"
   ]
  },
  {
   "cell_type": "markdown",
   "metadata": {},
   "source": [
    "Price VS MRT distance"
   ]
  },
  {
   "cell_type": "code",
   "execution_count": null,
   "metadata": {},
   "outputs": [],
   "source": [
    "\n",
    "# to use spotly express to plot the correlation between resale price and floor area,mrt nearest distance, and store the result in a variable called fig\n",
    "\n",
    "fig = px.scatter(df,x='mrt_nearest_distance', y='resale_price',color='mrt_nearest_distance')\n",
    "fig.show()\n"
   ]
  },
  {
   "cell_type": "code",
   "execution_count": null,
   "metadata": {},
   "outputs": [],
   "source": [
    "# to calculate the correlation between resale price mrt nearest distance\n",
    "correlation = df[['resale_price', 'mrt_nearest_distance']].corr()\n",
    "print(correlation)"
   ]
  },
  {
   "cell_type": "markdown",
   "metadata": {},
   "source": [
    "Resales price VS floor area"
   ]
  },
  {
   "cell_type": "code",
   "execution_count": null,
   "metadata": {},
   "outputs": [],
   "source": [
    "# to use spotly express to plot the correlation between resale price and floor areaand store the result in a variable called fig1\n",
    "\n",
    "fig1 = px.scatter(df,x='floor_area_sqm', y='resale_price',color='floor_area_sqm')\n",
    "fig1.show()"
   ]
  },
  {
   "cell_type": "code",
   "execution_count": null,
   "metadata": {},
   "outputs": [],
   "source": [
    "# to calculate the correlation between resale price and primary school nearest distance\n",
    "correlation = df[['resale_price', 'pri_sch_nearest_distance']].corr()\n",
    "print(correlation)\n",
    "#scatter plot of resale price and primary school nearest distance\n",
    "fig2 = px.scatter(df,x='pri_sch_nearest_distance', y='resale_price',color='pri_sch_nearest_distance')\n",
    "fig2.show()"
   ]
  },
  {
   "cell_type": "code",
   "execution_count": null,
   "metadata": {},
   "outputs": [],
   "source": [
    "df.info()"
   ]
  },
  {
   "cell_type": "markdown",
   "metadata": {},
   "source": [
    "Tree map for resales price "
   ]
  },
  {
   "cell_type": "code",
   "execution_count": null,
   "metadata": {},
   "outputs": [],
   "source": [
    "\n",
    "# Tree map of total resale price by town\n",
    "\n",
    "# Aggregate data by town\n",
    "treemap_data = df.groupby('town', as_index=False).agg({'resale_price': 'sum'})\n",
    "\n",
    "# Create treemap\n",
    "fig = px.treemap(treemap_data, \n",
    "                 path=['town'],  # Hierarchy: Just town\n",
    "                 values='resale_price', \n",
    "                 title='Total Resale Price by Town',\n",
    "                 color='resale_price',  # Color based on total price\n",
    "                 color_continuous_scale='blues')\n",
    "\n",
    "fig.show()"
   ]
  },
  {
   "cell_type": "markdown",
   "metadata": {},
   "source": [
    "Understand top 10 area"
   ]
  },
  {
   "cell_type": "code",
   "execution_count": null,
   "metadata": {},
   "outputs": [],
   "source": [
    "#top 10 towns with the highest average resale price\n",
    "top_10_towns = avg_price.head(10)\n",
    "print(top_10_towns)\n",
    "# to use spotly express to plot the top 10 towns with the highest average resale price and store the result in a variable called fig3\n",
    "fig3 = px.bar(top_10_towns, x='town', y='resale_price')\n",
    "fig3.show()"
   ]
  },
  {
   "cell_type": "markdown",
   "metadata": {},
   "source": [
    "# top 10 are at centre areas/mature area defined by HDB .Location is very import rtant for resale price."
   ]
  },
  {
   "cell_type": "markdown",
   "metadata": {},
   "source": [
    "To Understand top 10 towns transaction volume "
   ]
  },
  {
   "cell_type": "code",
   "execution_count": null,
   "metadata": {},
   "outputs": [],
   "source": [
    "# to calulate the top 10 towns transaction volume\n",
    "top_10_towns_volume = df['town'].value_counts().map(top_10_towns.set_index('town'))\n",
    "print(top_10_towns_volume)"
   ]
  },
  {
   "cell_type": "markdown",
   "metadata": {},
   "source": [
    "Understand top 100 transactions"
   ]
  },
  {
   "cell_type": "code",
   "execution_count": null,
   "metadata": {},
   "outputs": [],
   "source": [
    "# plot the top 100 resale price in which town\n",
    "top_100_resale_price = df.nlargest(100, 'resale_price')\n",
    "#print(top_100_resale_price)\n",
    "# to use spotly express to plot the top 100 resale price x axis is town,y axis is number of resale price and store the result in a variable called fig4\n",
    "fig4 = px.histogram(top_100_resale_price, x='town',color='flat_type')\n",
    "fig4.update_layout(barmode='stack')\n",
    "fig4.show()\n"
   ]
  },
  {
   "cell_type": "markdown",
   "metadata": {},
   "source": [
    "5 room is relative popular in the top 100 resales price"
   ]
  },
  {
   "cell_type": "code",
   "execution_count": null,
   "metadata": {},
   "outputs": [],
   "source": []
  },
  {
   "cell_type": "markdown",
   "metadata": {},
   "source": [
    "Each flat type sold by town"
   ]
  },
  {
   "cell_type": "code",
   "execution_count": null,
   "metadata": {},
   "outputs": [],
   "source": [
    "# uniqueflat type in each town and display each type of flat  in a dataframe\n",
    "unique_flat_type = df.groupby('town')['flat_type'].unique()\n",
    "#print(unique_flat_type)\n",
    "# plot each type flat in each town in hish graph\n",
    "fig5 = px.histogram(df, x='town', color='flat_type')\n",
    "fig5.update_layout(barmode='stack')\n",
    "fig5.show()"
   ]
  },
  {
   "cell_type": "markdown",
   "metadata": {},
   "source": [
    "Top 100 resresale price units VS floor area by town"
   ]
  },
  {
   "cell_type": "code",
   "execution_count": null,
   "metadata": {},
   "outputs": [],
   "source": [
    "# coorelation between resale price and floor area for top 100 resale price\n",
    "fig6 = px.scatter(top_100_resale_price, x='floor_area_sqm', y='resale_price', color='town')\n",
    "fig6.show()\n",
    "# to calculate the correlation between resale price and floor area for top 100 resale price\n",
    "correlation = top_100_resale_price['resale_price'].corr(top_100_resale_price['floor_area_sqm'])\n",
    "print(correlation)\n",
    "\n"
   ]
  },
  {
   "cell_type": "markdown",
   "metadata": {},
   "source": [
    "Strange! No relationship between size and resale price."
   ]
  }
 ],
 "metadata": {
  "kernelspec": {
   "display_name": "pds",
   "language": "python",
   "name": "python3"
  },
  "language_info": {
   "codemirror_mode": {
    "name": "ipython",
    "version": 3
   },
   "file_extension": ".py",
   "mimetype": "text/x-python",
   "name": "python",
   "nbconvert_exporter": "python",
   "pygments_lexer": "ipython3",
   "version": "3.10.16"
  }
 },
 "nbformat": 4,
 "nbformat_minor": 2
}
